{
 "cells": [
  {
   "cell_type": "code",
   "execution_count": null,
   "id": "4e23dc9a",
   "metadata": {},
   "outputs": [],
   "source": [
    "import sys, os\n",
    "sys.path.append(os.path.abspath(\"..\"))"
   ]
  },
  {
   "cell_type": "code",
   "execution_count": null,
   "id": "d27e8498",
   "metadata": {},
   "outputs": [],
   "source": [
    "from src.curve import build_zero_curve, discount_factor, shift_curve\n",
    "from src.pricing import price_from_curve"
   ]
  },
  {
   "cell_type": "code",
   "execution_count": 15,
   "id": "b305b519",
   "metadata": {},
   "outputs": [
    {
     "data": {
      "text/plain": [
       "np.float64(0.05449999999999999)"
      ]
     },
     "execution_count": 15,
     "metadata": {},
     "output_type": "execute_result"
    }
   ],
   "source": [
    "# Courbe jouet : maturités (années) et taux continus correspondants\n",
    "mats = np.array([1, 3, 5, 10], dtype=float)\n",
    "y_cc = np.array([0.02, 0.022, 0.025, 0.027], dtype=float)\n",
    "\n",
    "# Construction de r(t)\n",
    "r = build_zero_curve(mats, y_cc)\n",
    "\n",
    "# Vérif rapide : r(5y) doit être ~2.5%\n",
    "r(5.0)"
   ]
  },
  {
   "cell_type": "code",
   "execution_count": 16,
   "id": "aa56bc22",
   "metadata": {},
   "outputs": [
    {
     "data": {
      "text/plain": [
       "PosixPath('../data/portfolio.csv')"
      ]
     },
     "execution_count": 16,
     "metadata": {},
     "output_type": "execute_result"
    }
   ],
   "source": [
    "import pandas as pd\n",
    "from pathlib import Path\n",
    "\n",
    "# Dossier data (à la racine du repo)\n",
    "data_path = Path(\"..\") / \"data\"\n",
    "data_path.mkdir(parents=True, exist_ok=True)\n",
    "\n",
    "# Exemple minimal : 3 obligations plain vanilla (coupons annuels)\n",
    "pf = pd.DataFrame({\n",
    "    \"id\":      [\"BOND_ZC\", \"BOND_A\", \"BOND_B\"],\n",
    "    \"face\":    [100,       100,      100],\n",
    "    \"coupon\":  [0.00,      0.03,     0.05],\n",
    "    \"freq\":    [1,         1,        1],          # 1 = annuel\n",
    "    \"maturity\":[\"2028-12-30\",\"2030-12-30\",\"2035-12-30\"]\n",
    "})\n",
    "\n",
    "csv_file = data_path / \"portfolio.csv\"\n",
    "pf.to_csv(csv_file, index=False)\n",
    "csv_file\n"
   ]
  },
  {
   "cell_type": "code",
   "execution_count": 17,
   "id": "b7c2533b",
   "metadata": {},
   "outputs": [
    {
     "data": {
      "text/html": [
       "<div>\n",
       "<style scoped>\n",
       "    .dataframe tbody tr th:only-of-type {\n",
       "        vertical-align: middle;\n",
       "    }\n",
       "\n",
       "    .dataframe tbody tr th {\n",
       "        vertical-align: top;\n",
       "    }\n",
       "\n",
       "    .dataframe thead th {\n",
       "        text-align: right;\n",
       "    }\n",
       "</style>\n",
       "<table border=\"1\" class=\"dataframe\">\n",
       "  <thead>\n",
       "    <tr style=\"text-align: right;\">\n",
       "      <th></th>\n",
       "      <th>id</th>\n",
       "      <th>face</th>\n",
       "      <th>coupon</th>\n",
       "      <th>freq</th>\n",
       "      <th>maturity</th>\n",
       "    </tr>\n",
       "  </thead>\n",
       "  <tbody>\n",
       "    <tr>\n",
       "      <th>0</th>\n",
       "      <td>BOND_ZC</td>\n",
       "      <td>100</td>\n",
       "      <td>0.00</td>\n",
       "      <td>1</td>\n",
       "      <td>2028-12-30</td>\n",
       "    </tr>\n",
       "    <tr>\n",
       "      <th>1</th>\n",
       "      <td>BOND_A</td>\n",
       "      <td>100</td>\n",
       "      <td>0.03</td>\n",
       "      <td>1</td>\n",
       "      <td>2030-12-30</td>\n",
       "    </tr>\n",
       "    <tr>\n",
       "      <th>2</th>\n",
       "      <td>BOND_B</td>\n",
       "      <td>100</td>\n",
       "      <td>0.05</td>\n",
       "      <td>1</td>\n",
       "      <td>2035-12-30</td>\n",
       "    </tr>\n",
       "  </tbody>\n",
       "</table>\n",
       "</div>"
      ],
      "text/plain": [
       "        id  face  coupon  freq    maturity\n",
       "0  BOND_ZC   100    0.00     1  2028-12-30\n",
       "1   BOND_A   100    0.03     1  2030-12-30\n",
       "2   BOND_B   100    0.05     1  2035-12-30"
      ]
     },
     "execution_count": 17,
     "metadata": {},
     "output_type": "execute_result"
    }
   ],
   "source": [
    "import pandas as pd\n",
    "pf = pd.read_csv(\"../data/portfolio.csv\") \n",
    "pf\n"
   ]
  },
  {
   "cell_type": "code",
   "execution_count": 18,
   "id": "2a0a9d88",
   "metadata": {},
   "outputs": [
    {
     "data": {
      "text/plain": [
       "(76.14734291752053, 72.43359318069157, True)"
      ]
     },
     "execution_count": 18,
     "metadata": {},
     "output_type": "execute_result"
    }
   ],
   "source": [
    "from src.pricing import price_from_curve\n",
    "\n",
    "T = 5.0\n",
    "P_base = price_from_curve(r, [(T, 100.0)])\n",
    "\n",
    "r_up100 = shift_curve(r, 100)  # +100 bps parallèle\n",
    "P_up100 = price_from_curve(r_up100, [(T, 100.0)])\n",
    "\n",
    "P_base, P_up100, P_up100 < P_base  \n"
   ]
  },
  {
   "cell_type": "code",
   "execution_count": 19,
   "id": "876d7083",
   "metadata": {},
   "outputs": [
    {
     "data": {
      "text/plain": [
       "[(0.9945205479452055, 3.0),\n",
       " (1.9945205479452055, 3.0),\n",
       " (2.9945205479452053, 3.0),\n",
       " (3.9972602739726026, 3.0),\n",
       " (4.997260273972603, 3.0)]"
      ]
     },
     "execution_count": 19,
     "metadata": {},
     "output_type": "execute_result"
    }
   ],
   "source": [
    "import datetime as dt\n",
    "from src.cashflows import to_date, cashflows_plain_vanilla\n",
    "\n",
    "# On fixe une date de valorisation (V1) pour la reproductibilité :\n",
    "VAL_DATE = dt.date(2025, 1, 1)\n",
    "\n",
    "# Exemple : pricer BOND_A du CSV (coupon 3%, annuel)\n",
    "row = pf.loc[pf[\"id\"] == \"BOND_A\"].iloc[0]\n",
    "\n",
    "face = float(row[\"face\"])\n",
    "coupon = float(row[\"coupon\"])\n",
    "freq = int(row[\"freq\"])\n",
    "maturity = to_date(row[\"maturity\"])\n",
    "\n",
    "flows = cashflows_plain_vanilla(face, coupon, freq, VAL_DATE, maturity)\n",
    "flows[:5]  \n"
   ]
  },
  {
   "cell_type": "code",
   "execution_count": 20,
   "id": "f58c516d",
   "metadata": {},
   "outputs": [
    {
     "data": {
      "text/plain": [
       "(57.05762351104347, 54.12699698209609, True)"
      ]
     },
     "execution_count": 20,
     "metadata": {},
     "output_type": "execute_result"
    }
   ],
   "source": [
    "# Utilise r construit plus haut (mats/y_cc) \n",
    "P_base = price_from_curve(r, flows)\n",
    "\n",
    "r_up = shift_curve(r, 100)\n",
    "P_up = price_from_curve(r_up, flows)\n",
    "\n",
    "P_base, P_up, P_up < P_base  \n"
   ]
  },
  {
   "cell_type": "code",
   "execution_count": 21,
   "id": "12741611",
   "metadata": {},
   "outputs": [
    {
     "data": {
      "text/plain": [
       "([(0.9945205479452055, 0.0),\n",
       "  (1.9945205479452055, 0.0),\n",
       "  (2.9945205479452053, 0.0),\n",
       "  (3.9972602739726026, 100.0)],\n",
       " 80.78827388612945)"
      ]
     },
     "execution_count": 21,
     "metadata": {},
     "output_type": "execute_result"
    }
   ],
   "source": [
    "row_zc = pf.loc[pf[\"id\"] == \"BOND_ZC\"].iloc[0]\n",
    "flows_zc = cashflows_plain_vanilla(float(row_zc[\"face\"]),\n",
    "                                   float(row_zc[\"coupon\"]),\n",
    "                                   int(row_zc[\"freq\"]),\n",
    "                                   VAL_DATE,\n",
    "                                   to_date(row_zc[\"maturity\"]))\n",
    "flows_zc, price_from_curve(r, flows_zc)\n"
   ]
  },
  {
   "cell_type": "code",
   "execution_count": null,
   "id": "9f175f1e",
   "metadata": {},
   "outputs": [],
   "source": []
  }
 ],
 "metadata": {
  "kernelspec": {
   "display_name": "bond_stress_env (3.13.1)",
   "language": "python",
   "name": "python3"
  },
  "language_info": {
   "codemirror_mode": {
    "name": "ipython",
    "version": 3
   },
   "file_extension": ".py",
   "mimetype": "text/x-python",
   "name": "python",
   "nbconvert_exporter": "python",
   "pygments_lexer": "ipython3",
   "version": "3.13.1"
  }
 },
 "nbformat": 4,
 "nbformat_minor": 5
}
